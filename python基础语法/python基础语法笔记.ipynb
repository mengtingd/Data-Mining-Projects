{
 "cells": [
  {
   "cell_type": "markdown",
   "metadata": {},
   "source": [
    "python标准数据类型：\n",
    "不可变序列：number数字，string字符串（''\\\"\"\\'''...'''），tuple元组( )\n",
    "可变序列：list列表([])，dict字典({key:value,:})，set集合\n",
    "number数据类型：int\\long\\float\\complex\n",
    "bool布尔类型：True\\False\n",
    "\n",
    "运算符:+\\-\\*\\/\\%取余\\**幂\\//取整\n",
    "比较运算符：\n",
    "逻辑运算符：and\\or\\not\n",
    "成员运算符：in\\not in\n",
    "\n",
    "注释：#\\'''...'''"
   ]
  },
  {
   "cell_type": "markdown",
   "metadata": {},
   "source": [
    "list常用操作\n",
    "1、下标索引，从0开始，list[0]\n",
    "2、切片，list[2:4]，左闭右开\n",
    "3、步长，list[2:4:1],左闭右开\n",
    "4、len(list)\\max(list)\\min(list)\\sum(list)\\list.count(x)x值出现的次数\n",
    "\n",
    "1、list.append()添加元素\n",
    "list.extend()添加多个元素，用新列表扩展原列表\n",
    "2、list.remove()删除元素\n",
    "del list[:]\n",
    "list.clear()移除所有值\n",
    "3、list.insert(index,value)\n",
    "list1=list2复制，指向同一列表\n",
    "list2=list1.copy()复制一个新的列表\n",
    "4、list.sort()排序，默认升序排列"
   ]
  },
  {
   "cell_type": "markdown",
   "metadata": {},
   "source": [
    "tuple元组，不可变（）"
   ]
  },
  {
   "cell_type": "markdown",
   "metadata": {},
   "source": [
    "str常用操作，\n",
    "文字序列\"\" \\''\n",
    "注：文件路径用/或\\\\\n",
    "1、str.replace(old,new,count)修改字符串，count更换几个\n",
    "2、str.split(',')拆分字符串，生成列表\n",
    "3、str1.join(str2）连接字符串\n",
    "lst = ['poi01', '116.446238', '39.940166']\n",
    "m = '-'\n",
    "st = m.join(lst)\n",
    "4、str2.startswith(str1),str2.endswith(str1)判断str2是否以str1开头\n",
    "5、str.upper()\\str.lower()\\str.swapcase()\\str.capitalize()\n",
    "全部大写、全部小写、大小写互换、首字母大写\n",
    "6、str.isnumeric()只包含数字，返回True/False\n",
    "7、str.isalpha()至少有一个字符并且所有字符都是字母，返回True/False\n",
    "8、str.rstrip()删除字符末尾的空格\n",
    "\n",
    "格式化字符\n",
    "1、在字符串中插入变量\n",
    "%s，%str\n",
    "2、\"{}\".format()"
   ]
  },
  {
   "cell_type": "markdown",
   "metadata": {},
   "source": [
    "dict字典，可变容器{:,:}键必须唯一，值则不必\n",
    "键必须是字符串，值可以是任意对象：数值、字符串、序列、字典\n",
    "字典的常用操作：\n",
    "1、dict1=update(dict2)更新/合并一个字典，dict2合并到dict1，dict1改变\n",
    "2、dict1=dict2，指向同一个字典，所以会一起更新\n",
    "3、dict1=dict2.copy(),复制一个新字典\n",
    "4、len（dict）查看字典个数\n",
    "5、key in dict 键是否包含\n",
    "6、访问字典元素\n",
    "dic[key]\n",
    "dict.get(key)直接查看value\n",
    "dict.keys()输出字典所有key\n",
    "dict.values()输出字典所有value\n",
    "dict.items()输出字典所有元素\n",
    "7、遍历字典元素\n",
    "for key in dict.keys():\n",
    "for value in dict.values():\n",
    "for (k,v) in dict.items():"
   ]
  },
  {
   "cell_type": "code",
   "execution_count": null,
   "metadata": {},
   "outputs": [],
   "source": [
    "输入函数 input()返回字符串\n",
    "score=input(\"请输入成绩：\")\n",
    "匿名函数lambda  :\n",
    "全局变量、局部变量"
   ]
  },
  {
   "cell_type": "code",
   "execution_count": 1,
   "metadata": {},
   "outputs": [
    {
     "name": "stdout",
     "output_type": "stream",
     "text": [
      "0.4863032174206554 8.02804345882531\n",
      "0\n",
      "2 b\n",
      "[16, 12, 19, 7, 2]\n",
      "[5, 9, 1, 11, 13, 7, 3]\n"
     ]
    }
   ],
   "source": [
    "# python标准模块 —— random随机数\n",
    "\n",
    "import random\n",
    "\n",
    "x = random.random()\n",
    "y = random.random()\n",
    "print(x,y*10)\n",
    "# random.random()随机生成一个[0:1)的随机数\n",
    "\n",
    "m = random.randint(0,10)\n",
    "print(m)\n",
    "# random.randint()随机生成一个[0:10]的整数\n",
    "\n",
    "st1 = random.choice(list(range(10)))\n",
    "st2 = random.choice('abcdnehgjla')\n",
    "print(st1,st2)\n",
    "# random.choice()随机获取()中的一个元素，()种必须是一个有序类型\n",
    "\n",
    "lst = list(range(20))\n",
    "sli = random.sample(lst,5)\n",
    "print(sli)\n",
    "# random.sample(a,b)随机获取a中指定b长度的片段，不会改变原序列\n",
    "\n",
    "lst = [1,3,5,7,9,11,13]\n",
    "random.shuffle(lst)\n",
    "print(lst)\n",
    "# random.shuffle(list)将一个列表内的元素打乱"
   ]
  },
  {
   "cell_type": "code",
   "execution_count": null,
   "metadata": {},
   "outputs": [],
   "source": [
    "print()#输出/打印内容\n",
    "type()#查看数据类型\n",
    "#生成器\n",
    "range(5)#产生0，1，2，3，4，类型range"
   ]
  },
  {
   "cell_type": "code",
   "execution_count": null,
   "metadata": {},
   "outputs": [],
   "source": [
    "# python标准模块 —— time时间模块\n",
    "\n",
    "import time\n",
    "\n",
    "for i in range(2):\n",
    "    print('hello')\n",
    "    time.sleep(1)\n",
    "# time.sleep()程序休息()秒\n",
    "\n",
    "print(time.ctime())\n",
    "print(type(time.ctime()))\n",
    "# 将当前时间转换为一个字符串\n",
    "\n",
    "print(time.localtime())\n",
    "print(type(time.localtime()))\n",
    "# 将当前时间转为当前时区的struct_time\n",
    "# wday 0-6表示周日到周六\n",
    "# ydat 1-366 一年中的第几天\n",
    "# isdst 是否为夏令时，默认为-1\n",
    "\n",
    "print(time.strftime('%Y-%m-%d %H:%M:%S',time.localtime()))\n",
    "# time.strftime(a,b)\n",
    "# a为格式化字符串格式\n",
    "# b为时间戳，一般用localtime()"
   ]
  },
  {
   "cell_type": "markdown",
   "metadata": {},
   "source": [
    "%y 两位数的年份表示（00-99）\n",
    "\n",
    "%Y 四位数的年份表示（000-9999）\n",
    "\n",
    "%m 月份（01-12）\n",
    "\n",
    "%d 月内中的一天（0-31）\n",
    "\n",
    "%H 24小时制小时数（0-23）\n",
    "\n",
    "%I 12小时制小时数（01-12）\n",
    "\n",
    "%M 分钟数（00=59）\n",
    "\n",
    "%S 秒（00-59）\n",
    "\n",
    "%a 本地简化星期名称\n",
    "\n",
    "%A 本地完整星期名称\n",
    "\n",
    "%b 本地简化的月份名称\n",
    "\n",
    "%B 本地完整的月份名称\n",
    "\n",
    "%c 本地相应的日期表示和时间表示\n",
    "\n",
    "%j 年内的一天（001-366）\n",
    "\n",
    "%p 本地A.M.或P.M.的等价符\n",
    "\n",
    "%U 一年中的星期数（00-53）星期天为星期的开始\n",
    "\n",
    "%w 星期（0-6），星期天为星期的开始\n",
    "\n",
    "%W 一年中的星期数（00-53）星期一为星期的开始\n",
    "\n",
    "%x 本地相应的日期表示\n",
    "\n",
    "%X 本地相应的时间表示\n",
    "\n",
    "%Z 当前时区的名称\n",
    "\n",
    "%% %号本身\n"
   ]
  },
  {
   "cell_type": "code",
   "execution_count": null,
   "metadata": {},
   "outputs": [],
   "source": []
  }
 ],
 "metadata": {
  "kernelspec": {
   "display_name": "Python 3",
   "language": "python",
   "name": "python3"
  },
  "language_info": {
   "codemirror_mode": {
    "name": "ipython",
    "version": 3
   },
   "file_extension": ".py",
   "mimetype": "text/x-python",
   "name": "python",
   "nbconvert_exporter": "python",
   "pygments_lexer": "ipython3",
   "version": "3.7.1"
  }
 },
 "nbformat": 4,
 "nbformat_minor": 2
}
